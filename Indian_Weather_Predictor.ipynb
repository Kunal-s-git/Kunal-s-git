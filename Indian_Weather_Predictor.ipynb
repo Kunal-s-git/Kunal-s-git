{
  "nbformat": 4,
  "nbformat_minor": 0,
  "metadata": {
    "colab": {
      "provenance": [],
      "mount_file_id": "1h-09iVqmXCHmVZD2TVCa061IsD7nXVea",
      "authorship_tag": "ABX9TyPmHUA2mNl1fEJw0sKBUftb",
      "include_colab_link": true
    },
    "kernelspec": {
      "name": "python3",
      "display_name": "Python 3"
    },
    "language_info": {
      "name": "python"
    }
  },
  "cells": [
    {
      "cell_type": "markdown",
      "metadata": {
        "id": "view-in-github",
        "colab_type": "text"
      },
      "source": [
        "<a href=\"https://colab.research.google.com/github/Kunal-s-git/Kunal-s-git/blob/main/Indian_Weather_Predictor.ipynb\" target=\"_parent\"><img src=\"https://colab.research.google.com/assets/colab-badge.svg\" alt=\"Open In Colab\"/></a>"
      ]
    },
    {
      "cell_type": "markdown",
      "source": [
        "Just a teaser run all the cells."
      ],
      "metadata": {
        "id": "TSEOB5et1_Tt"
      }
    },
    {
      "cell_type": "code",
      "source": [
        "m2"
      ],
      "metadata": {
        "id": "6iReqNvP18dA"
      },
      "execution_count": null,
      "outputs": []
    },
    {
      "cell_type": "markdown",
      "source": [
        "#Description\n",
        "This dataset provides real-time weather information for major cities in India. Unlike forecast data, this dataset offers a comprehensive set of features that reflect the current weather conditions.\n",
        "Starting from August 29, 2023.\n",
        "It provides over 40+ features, including temperature, wind, pressure, precipitation, humidity, visibility, and air quality measurements. This dataset is a valuable resource for analyzing India's present weather trends and exploring the relationships between various weather parameters.\n",
        "\n",
        "Dataset : https://www.kaggle.com/datasets/nelgiriyewithana/indian-weather-repository-daily-snapshot\n",
        "\n",
        "\n",
        "\n",
        "---\n",
        "\n"
      ],
      "metadata": {
        "id": "bq2D5ZbSdfUN"
      }
    },
    {
      "cell_type": "markdown",
      "source": [
        "#Potential use cases\n",
        "**Weather trend analysis**: Analyze historical weather data to identify long-term patterns and trends.\n",
        "\n",
        "**Geospatial analysis**: Explore geographical variations in weather conditions across different regions.\n",
        "\n",
        "**Weather condition correlations**: Investigate relationships between various weather parameters and their effects on each other.\n",
        "\n",
        "**Air quality impact**: Study the impact of weather conditions on air quality measurements.\n",
        "\n",
        "**Celestial events analysis**: Examine correlations between celestial events and weather phenomena."
      ],
      "metadata": {
        "id": "Sr5SKkw7dvW7"
      }
    },
    {
      "cell_type": "code",
      "source": [
        "#Importing lib's\n",
        "import numpy as np\n",
        "import pandas as pd\n",
        "import matplotlib.pyplot as plt\n",
        "import seaborn as sns\n",
        "import geopandas as gpd\n",
        "import folium\n",
        "from folium import Choropleth,Circle,Marker\n",
        "from folium.plugins import HeatMap"
      ],
      "metadata": {
        "id": "FtRZMV2_eDYg"
      },
      "execution_count": null,
      "outputs": []
    },
    {
      "cell_type": "markdown",
      "source": [
        "Upload the dataset and making the dataframe."
      ],
      "metadata": {
        "id": "E2pnuWtY1QQ-"
      }
    },
    {
      "cell_type": "code",
      "source": [
        "weather=pd.read_csv('/content/IndianWeatherRepository.csv')"
      ],
      "metadata": {
        "id": "5VVCrJlU_jZV"
      },
      "execution_count": null,
      "outputs": []
    },
    {
      "cell_type": "code",
      "source": [
        "print(weather.info())"
      ],
      "metadata": {
        "id": "0pWgz33WeeWb"
      },
      "execution_count": null,
      "outputs": []
    },
    {
      "cell_type": "markdown",
      "source": [
        "Removing the redundant features."
      ],
      "metadata": {
        "id": "ejoUmiX6ZDya"
      }
    },
    {
      "cell_type": "code",
      "source": [
        "weather.drop(['last_updated_epoch','last_updated','temperature_fahrenheit','wind_mph',\n",
        "              'pressure_in','precip_in','feels_like_fahrenheit','visibility_miles',\n",
        "              'gust_mph'],axis=1,inplace=True)"
      ],
      "metadata": {
        "id": "1VBYA9gQ95OV"
      },
      "execution_count": null,
      "outputs": []
    },
    {
      "cell_type": "markdown",
      "source": [
        "Seeing the distribution of the data in dataset."
      ],
      "metadata": {
        "id": "mE2cYqqWZVVk"
      }
    },
    {
      "cell_type": "code",
      "source": [
        "weather.hist(bins=10,figsize=(20,15))\n",
        "plt.show()"
      ],
      "metadata": {
        "id": "f_ioaSsyAD-K"
      },
      "execution_count": null,
      "outputs": []
    },
    {
      "cell_type": "markdown",
      "source": [
        "Plotting the correlation matrix."
      ],
      "metadata": {
        "id": "xaOTBllnZhlR"
      }
    },
    {
      "cell_type": "code",
      "source": [
        "cor=weather.corr().round(3)\n",
        "plt.figure(figsize=(15,15))\n",
        "heatmap=sns.heatmap(cor,annot=True,cmap='BrBG',linewidths=0.1)\n",
        "plt.show()"
      ],
      "metadata": {
        "id": "P0M_bRxHAoQY"
      },
      "execution_count": null,
      "outputs": []
    },
    {
      "cell_type": "markdown",
      "source": [
        "#Objective:\n",
        "We will be making a model that predicts the temperatuer in celsius using different techniques and determine the best one for use.\n",
        "\n",
        "Importing the must need libraries."
      ],
      "metadata": {
        "id": "O7Iq61TsaJMQ"
      }
    },
    {
      "cell_type": "code",
      "source": [
        "import tensorflow as tf\n",
        "from tensorflow import keras\n",
        "from tensorflow.keras import layers\n",
        "from tensorflow.keras.callbacks import EarlyStopping\n",
        "\n",
        "from sklearn.linear_model import LinearRegression\n",
        "from sklearn.ensemble import RandomForestRegressor\n",
        "from sklearn.model_selection import train_test_split as tts\n",
        "from sklearn.metrics import f1_score,r2_score\n",
        "from sklearn.preprocessing import StandardScaler"
      ],
      "metadata": {
        "id": "LjNc85I8AoKG"
      },
      "execution_count": null,
      "outputs": []
    },
    {
      "cell_type": "markdown",
      "source": [
        "Selecting the features for the model."
      ],
      "metadata": {
        "id": "Inq6MpAMbUo8"
      }
    },
    {
      "cell_type": "code",
      "source": [
        "X=weather[['latitude','longitude','wind_kph','wind_degree','pressure_mb',\n",
        "           'precip_mm','humidity','cloud','uv_index','gust_kph',]]\n",
        "y=weather['temperature_celsius']\n",
        "print(f'Shape of features : {X.shape}')\n",
        "print(f'Shape of target : {y.shape}')"
      ],
      "metadata": {
        "colab": {
          "base_uri": "https://localhost:8080/"
        },
        "id": "Tq4oFfSgFyu-",
        "outputId": "989e2c3a-25f9-48fc-9e6d-b993731049e1"
      },
      "execution_count": null,
      "outputs": [
        {
          "output_type": "stream",
          "name": "stdout",
          "text": [
            "Shape of features : (105708, 10)\n",
            "Shape of target : (105708,)\n"
          ]
        }
      ]
    },
    {
      "cell_type": "markdown",
      "source": [
        "Splitting the data for training and testing."
      ],
      "metadata": {
        "id": "6l7mlA4qbhm7"
      }
    },
    {
      "cell_type": "code",
      "source": [
        "xtrain,xtest,ytrain,ytest=tts(X,y,test_size=0.2,shuffle=True,random_state=10 )\n",
        "print(f'Shape of training data : {xtrain.shape}',f'Shape of testing data : {xtest.shape}',)"
      ],
      "metadata": {
        "colab": {
          "base_uri": "https://localhost:8080/"
        },
        "id": "z2miOvCBH5vt",
        "outputId": "c0a53e4a-0441-4bb8-afee-d1748db7fd23"
      },
      "execution_count": null,
      "outputs": [
        {
          "output_type": "stream",
          "name": "stdout",
          "text": [
            "Shape of training data : (84566, 10) Shape of testing data : (21142, 10)\n"
          ]
        }
      ]
    },
    {
      "cell_type": "markdown",
      "source": [
        "\n",
        "\n",
        "---\n",
        "\n",
        "\n",
        "First we will start with a simple Linear Regression model and see it's accuracy on test data."
      ],
      "metadata": {
        "id": "LM5Yew7IJtiH"
      }
    },
    {
      "cell_type": "code",
      "source": [
        "lr_model=LinearRegression()\n",
        "lr_model.fit(xtrain,ytrain)\n",
        "# ypred=lr_model.predict(xtest)\n",
        "print(f'Model\\'s accuracy : {lr_model.score(xtest,ytest).round(2)*100}%')"
      ],
      "metadata": {
        "colab": {
          "base_uri": "https://localhost:8080/"
        },
        "id": "q33nSj-FWft5",
        "outputId": "f4559c26-1c5e-4ce3-9312-fdb90c4016d6"
      },
      "execution_count": null,
      "outputs": [
        {
          "output_type": "stream",
          "name": "stdout",
          "text": [
            "Model's accuracy : 73.0%\n"
          ]
        }
      ]
    },
    {
      "cell_type": "markdown",
      "source": [
        "With the score of 73% Linear Regression model seems to be working fine. But we are working with a real world data that changes or update daily, so we need the model to perform better.\n",
        "Let's go to a different regressor now\n",
        "\n",
        "\n",
        "---\n",
        "\n"
      ],
      "metadata": {
        "id": "SUlkFUI7bbz6"
      }
    },
    {
      "cell_type": "markdown",
      "source": [
        "Now we will be using the Random Forest model to perform predictions."
      ],
      "metadata": {
        "id": "xW4ZUPAzdfT8"
      }
    },
    {
      "cell_type": "code",
      "source": [
        "rf_model=RandomForestRegressor(n_estimators=100)\n",
        "rf_model.fit(xtrain,ytrain)\n",
        "ypred=rf_model.predict(xtest)\n",
        "print(f'Model\\'s accuracy : {rf_model.score(xtest,ytest).round(2)*100}%')"
      ],
      "metadata": {
        "colab": {
          "base_uri": "https://localhost:8080/"
        },
        "id": "SlXaZ5LJaRG3",
        "outputId": "73c42848-3fca-4fca-b1aa-c1106ee1dd14"
      },
      "execution_count": null,
      "outputs": [
        {
          "output_type": "stream",
          "name": "stdout",
          "text": [
            "Model's accuracy : 94.0%\n"
          ]
        }
      ]
    },
    {
      "cell_type": "markdown",
      "source": [
        "94% seems to be great for predicting the temperature. Loss of 6% seems to be because of the random noise in the data or due to random shuffle of the data points during the splitting.\n",
        "\n",
        "Now let's see the important features for predicting the temperature."
      ],
      "metadata": {
        "id": "DRnKxOODdtPx"
      }
    },
    {
      "cell_type": "code",
      "source": [
        "imp_ft=pd.Series(rf_model.feature_importances_,index=xtrain.columns).sort_values(ascending=False)\n",
        "print(imp_ft)"
      ],
      "metadata": {
        "colab": {
          "base_uri": "https://localhost:8080/"
        },
        "id": "062FQVNReS-0",
        "outputId": "cf0260f1-9052-4ece-f9d7-7ea073942fcf"
      },
      "execution_count": null,
      "outputs": [
        {
          "output_type": "stream",
          "name": "stdout",
          "text": [
            "pressure_mb    0.531967\n",
            "latitude       0.265459\n",
            "longitude      0.072991\n",
            "humidity       0.045897\n",
            "wind_degree    0.025605\n",
            "cloud          0.020817\n",
            "gust_kph       0.015977\n",
            "wind_kph       0.012487\n",
            "uv_index       0.005902\n",
            "precip_mm      0.002897\n",
            "dtype: float64\n"
          ]
        }
      ]
    },
    {
      "cell_type": "code",
      "source": [
        "plt.figure(figsize=(12,12))\n",
        "plt.plot(imp_ft,marker='*')\n",
        "plt.show()"
      ],
      "metadata": {
        "id": "djqBs6J-fef4"
      },
      "execution_count": null,
      "outputs": []
    },
    {
      "cell_type": "markdown",
      "source": [
        "With this graph it seems like **Pressuer, Latitude, Longitude , Humidity,** are some of the important measuers when predicting the Temperature.\n",
        "\n",
        "\n",
        "---\n",
        "\n"
      ],
      "metadata": {
        "id": "5d8vTCPxf0oQ"
      }
    },
    {
      "cell_type": "markdown",
      "source": [
        "Now let's move to the last perdicting model that is the famous Neural Networks.\n",
        "For that we will Standardize the data."
      ],
      "metadata": {
        "id": "rIy41-dPgbKH"
      }
    },
    {
      "cell_type": "code",
      "source": [
        "scale=StandardScaler()\n",
        "xtrain_=scale.fit_transform(xtrain)\n",
        "xtest_=scale.fit_transform(xtest)"
      ],
      "metadata": {
        "id": "IvTBC7ZJg9CW"
      },
      "execution_count": null,
      "outputs": []
    },
    {
      "cell_type": "markdown",
      "source": [
        "Using TensorFlow's keras for making a Sequential model, with 5 hidden layers."
      ],
      "metadata": {
        "id": "_mfjVmZ3keAA"
      }
    },
    {
      "cell_type": "code",
      "source": [
        "shape=xtrain.shape[1]\n",
        "early_stopping=EarlyStopping(min_delta=0.005,patience=10,restore_best_weights=True)\n",
        "tf_model=keras.Sequential([\n",
        "    layers.BatchNormalization(input_shape=[shape]),\n",
        "    layers.Dense(1024,'relu'),\n",
        "    layers.Dense(512,'relu',),\n",
        "    layers.Dropout(0.3),layers.BatchNormalization(),\n",
        "    layers.Dense(256,'relu'),\n",
        "    layers.Dropout(0.3),layers.BatchNormalization(),\n",
        "    layers.Dense(64,'relu'),\n",
        "    layers.Dropout(0.2),layers.BatchNormalization(),\n",
        "    layers.Dense(32,'relu'),\n",
        "    layers.Dropout(0.1),layers.BatchNormalization(),\n",
        "    layers.Dense(1)\n",
        "])\n",
        "tf_model.compile(loss='mae',optimizer='adam',metrics=['accuracy'])\n",
        "#tf_model.summary()"
      ],
      "metadata": {
        "id": "BEt95rYNH5hs"
      },
      "execution_count": null,
      "outputs": []
    },
    {
      "cell_type": "code",
      "source": [
        "hist=tf_model.fit(xtrain_,ytrain,validation_data=(xtest_,ytest),batch_size=256,epochs=200,callbacks=[early_stopping],verbose=0)"
      ],
      "metadata": {
        "id": "RCcP8gMgH5UR"
      },
      "execution_count": null,
      "outputs": []
    },
    {
      "cell_type": "code",
      "source": [
        "hist_df=pd.DataFrame(hist.history)\n",
        "hist_df.loc[:,['loss','val_loss']].plot()\n",
        "hist_df.loc[:,['accuracy','val_accuracy']].plot()\n",
        "print('Minimum validation loss : {}'.format(hist_df['val_loss'].min()))\n",
        "print('Maximum validation accuracy : {}'.format(hist_df['val_accuracy'].max()))\n",
        "print('Maximum accuracy : {}'.format(hist_df['accuracy'].max()))"
      ],
      "metadata": {
        "id": "RsGiAFuBMmSN"
      },
      "execution_count": null,
      "outputs": []
    },
    {
      "cell_type": "markdown",
      "source": [
        "After seeing the results of the tensorflow model we can say that :\n",
        "\n",
        "\n",
        "*   Model seems to generalise ok but is definetly Underfitting.\n",
        "\n",
        "And I've spent lot of time to make the model work but it does not seems to work.\n",
        "It's accuracy and loss measuer are also not good, So we won't be using this model for predictions.\n",
        "\n",
        "---\n",
        "\n",
        "\n"
      ],
      "metadata": {
        "id": "7vH_kCc7pCwR"
      }
    },
    {
      "cell_type": "markdown",
      "source": [
        "Let's define a function that predicts the temperature for new data."
      ],
      "metadata": {
        "id": "genNeDP0sZcn"
      }
    },
    {
      "cell_type": "code",
      "source": [
        "example=xtrain[1:2]\n",
        "print('Do you want to Predict temperature for new data :\\t1.Yes\\t2.No\\n')\n",
        "ans=str(input())\n",
        "if ans=='yes' or ans=='Yes':\n",
        "  print('Please enter your details in respective order')\n",
        "  print('Example:\\n',example,'\\t\\t *don\\'t enter brackets*')\n",
        "  new_data=input('Seprate values with space:')\n",
        "  new_data=new_data.split(' ')\n",
        "  new_data=[[eval(i) for i in new_data]]"
      ],
      "metadata": {
        "id": "BLLpPu7QMmJI",
        "colab": {
          "base_uri": "https://localhost:8080/"
        },
        "outputId": "f69e5847-2c5f-4ccd-ce03-1c91609c0743"
      },
      "execution_count": null,
      "outputs": [
        {
          "name": "stdout",
          "output_type": "stream",
          "text": [
            "Do you want to Predict temperature for new data :\t1.Yes\t2.No\n",
            "\n",
            "no\n"
          ]
        }
      ]
    },
    {
      "cell_type": "code",
      "source": [
        "print(f'Acctual temperature of example : {ytrain[1:2]} celsius')  #first no is the index\n",
        "print('Temperature predicted by the model : ')\n",
        "whats_the_temp(example)"
      ],
      "metadata": {
        "colab": {
          "base_uri": "https://localhost:8080/"
        },
        "id": "bg-bTMi2svUr",
        "outputId": "13f102e9-7bbe-4d13-8401-87d0f3199519"
      },
      "execution_count": null,
      "outputs": [
        {
          "output_type": "stream",
          "name": "stdout",
          "text": [
            "Acctual temperature of example : 22587    24.6\n",
            "Name: temperature_celsius, dtype: float64 celsius\n",
            "Temperature predicted by the model : \n",
            "Temperature is [24.724] celsius\n"
          ]
        }
      ]
    },
    {
      "cell_type": "markdown",
      "source": [
        "Acctual temperature and the predicted temperature are relatively close. And it shows that the model is performing great."
      ],
      "metadata": {
        "id": "atn6-U4PvpX8"
      }
    },
    {
      "cell_type": "code",
      "source": [
        "whats_the_temp(new_data)"
      ],
      "metadata": {
        "id": "fxKSQvDHsDcI"
      },
      "execution_count": null,
      "outputs": []
    },
    {
      "cell_type": "code",
      "source": [
        "def whats_the_temp(new_data):\n",
        "  temp=rf_model.predict(new_data)\n",
        "  return print(f'Temperature is {temp} celsius')"
      ],
      "metadata": {
        "id": "sfoaiz6hMl_1"
      },
      "execution_count": null,
      "outputs": []
    },
    {
      "cell_type": "markdown",
      "source": [
        "\n",
        "\n",
        "---\n",
        "\n",
        "Now let's do some **Geospatial Analysis**."
      ],
      "metadata": {
        "id": "zghrrXCowHsS"
      }
    },
    {
      "cell_type": "code",
      "source": [
        "weather=gpd.GeoDataFrame(weather,geometry=gpd.points_from_xy(weather.latitude,weather.longitude))\n",
        "print(weather.info())"
      ],
      "metadata": {
        "colab": {
          "base_uri": "https://localhost:8080/"
        },
        "id": "y3Bi_0n_H5F2",
        "outputId": "bd33f7c4-dacf-4341-aa09-471e9f1c275e"
      },
      "execution_count": null,
      "outputs": [
        {
          "output_type": "stream",
          "name": "stdout",
          "text": [
            "<class 'geopandas.geodataframe.GeoDataFrame'>\n",
            "RangeIndex: 105708 entries, 0 to 105707\n",
            "Data columns (total 34 columns):\n",
            " #   Column                        Non-Null Count   Dtype   \n",
            "---  ------                        --------------   -----   \n",
            " 0   country                       105708 non-null  object  \n",
            " 1   location_name                 105708 non-null  object  \n",
            " 2   region                        105708 non-null  object  \n",
            " 3   latitude                      105708 non-null  float64 \n",
            " 4   longitude                     105708 non-null  float64 \n",
            " 5   timezone                      105708 non-null  object  \n",
            " 6   temperature_celsius           105708 non-null  float64 \n",
            " 7   condition_text                105708 non-null  object  \n",
            " 8   wind_kph                      105708 non-null  float64 \n",
            " 9   wind_degree                   105708 non-null  int64   \n",
            " 10  wind_direction                105708 non-null  object  \n",
            " 11  pressure_mb                   105708 non-null  float64 \n",
            " 12  precip_mm                     105708 non-null  float64 \n",
            " 13  humidity                      105708 non-null  int64   \n",
            " 14  cloud                         105708 non-null  int64   \n",
            " 15  feels_like_celsius            105708 non-null  float64 \n",
            " 16  visibility_km                 105708 non-null  float64 \n",
            " 17  uv_index                      105708 non-null  float64 \n",
            " 18  gust_kph                      105708 non-null  float64 \n",
            " 19  air_quality_Carbon_Monoxide   105708 non-null  float64 \n",
            " 20  air_quality_Ozone             105708 non-null  float64 \n",
            " 21  air_quality_Nitrogen_dioxide  105708 non-null  float64 \n",
            " 22  air_quality_Sulphur_dioxide   105708 non-null  float64 \n",
            " 23  air_quality_PM2.5             105708 non-null  float64 \n",
            " 24  air_quality_PM10              105708 non-null  float64 \n",
            " 25  air_quality_us-epa-index      105708 non-null  int64   \n",
            " 26  air_quality_gb-defra-index    105708 non-null  int64   \n",
            " 27  sunrise                       105708 non-null  object  \n",
            " 28  sunset                        105708 non-null  object  \n",
            " 29  moonrise                      105708 non-null  object  \n",
            " 30  moonset                       105708 non-null  object  \n",
            " 31  moon_phase                    105708 non-null  object  \n",
            " 32  moon_illumination             105708 non-null  int64   \n",
            " 33  geometry                      105708 non-null  geometry\n",
            "dtypes: float64(16), geometry(1), int64(6), object(11)\n",
            "memory usage: 27.4+ MB\n",
            "None\n"
          ]
        }
      ]
    },
    {
      "cell_type": "code",
      "source": [
        "ind_temp=weather[['latitude','longitude','temperature_celsius','geometry',]].set_index('temperature_celsius').copy()\n",
        "loc_=[28.571101,77.074686]  #location\n",
        "print(ind_temp.head())"
      ],
      "metadata": {
        "colab": {
          "base_uri": "https://localhost:8080/"
        },
        "id": "k-88720rwkvs",
        "outputId": "ecb270ff-2b80-4216-9fd0-e838f1132fd6"
      },
      "execution_count": null,
      "outputs": [
        {
          "output_type": "stream",
          "name": "stdout",
          "text": [
            "                     latitude  longitude                   geometry\n",
            "temperature_celsius                                                \n",
            "27.5                    24.57      77.72  POINT (24.57000 77.72000)\n",
            "27.5                    23.33      77.80  POINT (23.33000 77.80000)\n",
            "26.3                    22.07      78.93  POINT (22.07000 78.93000)\n",
            "25.6                    21.86      77.93  POINT (21.86000 77.93000)\n",
            "27.2                    22.75      77.72  POINT (22.75000 77.72000)\n"
          ]
        }
      ]
    },
    {
      "cell_type": "code",
      "source": [
        "\n",
        "m1=folium.Map(location=loc_,tiles='openstreetmap',zoom_start=7)\n",
        "Marker([loc_[0],loc_[1]]).add_to(m1)\n",
        "HeatMap(data=ind_temp[['latitude','longitude',]],radius=10).add_to(m1)\n",
        "m1"
      ],
      "metadata": {
        "id": "L4YeDvB03woq"
      },
      "execution_count": null,
      "outputs": []
    },
    {
      "cell_type": "code",
      "source": [
        "plot_dic=ind_temp.index.value_counts()\n",
        "m2=folium.Map(location=loc_,tiles='openstreetmap',zoom_start=7)\n",
        "Choropleth(geo_data=ind_temp.__geo_interface__,data=plot_dic,key_on='feature.id',\n",
        "           fill_color='YlGnBu',legend_name='Temperature varition in INDIA').add_to(m2)\n",
        "m2"
      ],
      "metadata": {
        "id": "7QEpV9URxgnu"
      },
      "execution_count": null,
      "outputs": []
    },
    {
      "cell_type": "markdown",
      "source": [
        "\n",
        "\n",
        "---\n",
        "\n",
        "\n",
        "**With this we made a model that predicts the temperature in INDIA\n",
        "using MACHINE LEARNING techniques.**\n",
        "\n",
        "---\n",
        "\n"
      ],
      "metadata": {
        "id": "0LCiT6Ps1N1O"
      }
    }
  ]
}